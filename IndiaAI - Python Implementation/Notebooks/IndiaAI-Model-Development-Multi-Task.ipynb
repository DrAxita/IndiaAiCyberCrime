{
 "cells": [
  {
   "cell_type": "code",
   "execution_count": 2,
   "id": "d09b27b6",
   "metadata": {},
   "outputs": [
    {
     "name": "stdout",
     "output_type": "stream",
     "text": [
      "Files converted to UTF-8 successfully.\n"
     ]
    }
   ],
   "source": [
    "import pandas as pd\n",
    "\n",
    "# Read the files with latin1 encoding\n",
    "train_df = pd.read_csv('train.csv', encoding='latin1')\n",
    "test_df = pd.read_csv('test.csv', encoding='latin1')\n",
    "\n",
    "# Save them back in UTF-8 encoding\n",
    "train_df.to_csv('train_utf8.csv', index=False, encoding='utf-8')\n",
    "test_df.to_csv('test_utf8.csv', index=False, encoding='utf-8')\n",
    "\n",
    "print(\"Files converted to UTF-8 successfully.\")\n"
   ]
  },
  {
   "cell_type": "code",
   "execution_count": 3,
   "id": "15b5de8a",
   "metadata": {},
   "outputs": [],
   "source": [
    "train_df = pd.read_csv('train_utf8.csv')\n",
    "test_df = pd.read_csv('test_utf8.csv')\n"
   ]
  },
  {
   "cell_type": "code",
   "execution_count": 4,
   "id": "a1aac6d4",
   "metadata": {},
   "outputs": [
    {
     "name": "stdout",
     "output_type": "stream",
     "text": [
      "Training Data Info:\n",
      "<class 'pandas.core.frame.DataFrame'>\n",
      "RangeIndex: 93686 entries, 0 to 93685\n",
      "Data columns (total 3 columns):\n",
      " #   Column              Non-Null Count  Dtype \n",
      "---  ------              --------------  ----- \n",
      " 0   category            93686 non-null  object\n",
      " 1   sub_category        87095 non-null  object\n",
      " 2   crimeaditionalinfo  93665 non-null  object\n",
      "dtypes: object(3)\n",
      "memory usage: 2.1+ MB\n",
      "None\n",
      "\n",
      "Missing Values in Training Data:\n",
      "category                 0\n",
      "sub_category          6591\n",
      "crimeaditionalinfo      21\n",
      "dtype: int64\n",
      "\n",
      "Unique values in 'category':\n",
      "['Online and Social Media Related Crime' 'Online Financial Fraud'\n",
      " 'Online Gambling  Betting' 'RapeGang Rape RGRSexually Abusive Content'\n",
      " 'Any Other Cyber Crime']\n",
      "\n",
      "Unique values in 'sub_category':\n",
      "['Cyber Bullying  Stalking  Sexting' 'Fraud CallVishing'\n",
      " 'Online Gambling  Betting' 'Online Job Fraud' 'UPI Related Frauds']\n",
      "\n",
      "Unique values in 'crimeaditionalinfo':\n",
      "['I had continue received random calls and abusive messages in my whatsapp Someone added my number in a unknown facebook group name with  Only Girls  and still getting calls from unknown numbers pls help me and sort out the issue  as soon as possible Thank you'\n",
      " 'The above fraudster is continuously messaging me and Asking me to pay him money or he will send fake  cropped nude photos of me to my other contacts through WhatsApp\\r\\n\\r\\nI am unaware how he has recieved my contacts list from my phone\\r\\n\\r\\nPlease help'\n",
      " 'He is acting like a police and demanding for money by adding sections in the text messages \\r\\nI request you to take an immediate action on him Frequently he is harassing with these messages For reference please find attached files'\n",
      " 'In apna Job I have applied for job interview for telecalling and the resource management wrote that twelve hundred will be charged for security amount of laptop and work from home when I have given interview on the given address next day they charged twelve hundred and six hundred more money in the name of insurance after that they have referred me to the job calling there is no work of laptop neither a work from home kindly please take action against it as soon as possible and if possible please help me to recover my financial loss'\n",
      " 'I received a call from lady stating that she will send new phone of vivo and I received that parcel through post on  th February to Kurnool head post office  where I have not received any mobile']\n"
     ]
    }
   ],
   "source": [
    "# Check the structure of the training data\n",
    "print(\"Training Data Info:\")\n",
    "print(train_df.info())\n",
    "\n",
    "# Check for missing values\n",
    "print(\"\\nMissing Values in Training Data:\")\n",
    "print(train_df.isnull().sum())\n",
    "\n",
    "# Display some unique values in the columns\n",
    "for column in train_df.columns:\n",
    "    print(f\"\\nUnique values in '{column}':\")\n",
    "    print(train_df[column].unique()[:5])  # Show only first 5 unique values\n"
   ]
  },
  {
   "cell_type": "code",
   "execution_count": 5,
   "id": "7f63882c",
   "metadata": {},
   "outputs": [
    {
     "name": "stdout",
     "output_type": "stream",
     "text": [
      "Updated Missing Values:\n",
      "category              0\n",
      "sub_category          0\n",
      "crimeaditionalinfo    0\n",
      "dtype: int64\n"
     ]
    }
   ],
   "source": [
    "# Drop rows with missing 'crimeaditionalinfo'\n",
    "train_df = train_df.dropna(subset=['crimeaditionalinfo'])\n",
    "\n",
    "# Fill missing 'sub_category' with a placeholder (e.g., 'Unknown')\n",
    "train_df['sub_category'] = train_df['sub_category'].fillna('Unknown')\n",
    "\n",
    "# Verify the changes\n",
    "print(\"Updated Missing Values:\")\n",
    "print(train_df.isnull().sum())\n"
   ]
  },
  {
   "cell_type": "code",
   "execution_count": 6,
   "id": "378c47e7",
   "metadata": {},
   "outputs": [
    {
     "name": "stderr",
     "output_type": "stream",
     "text": [
      "[nltk_data] Downloading package punkt_tab to\n",
      "[nltk_data]     C:\\Users\\hp\\AppData\\Roaming\\nltk_data...\n",
      "[nltk_data]   Package punkt_tab is already up-to-date!\n"
     ]
    },
    {
     "data": {
      "text/plain": [
       "True"
      ]
     },
     "execution_count": 6,
     "metadata": {},
     "output_type": "execute_result"
    }
   ],
   "source": [
    "import nltk\n",
    "nltk.download('punkt_tab')"
   ]
  },
  {
   "cell_type": "code",
   "execution_count": 7,
   "id": "79a844ea",
   "metadata": {},
   "outputs": [
    {
     "name": "stderr",
     "output_type": "stream",
     "text": [
      "[nltk_data] Downloading package punkt to\n",
      "[nltk_data]     C:\\Users\\hp\\AppData\\Roaming\\nltk_data...\n",
      "[nltk_data]   Package punkt is already up-to-date!\n",
      "[nltk_data] Downloading package stopwords to\n",
      "[nltk_data]     C:\\Users\\hp\\AppData\\Roaming\\nltk_data...\n",
      "[nltk_data]   Package stopwords is already up-to-date!\n",
      "[nltk_data] Downloading package wordnet to\n",
      "[nltk_data]     C:\\Users\\hp\\AppData\\Roaming\\nltk_data...\n",
      "[nltk_data]   Package wordnet is already up-to-date!\n"
     ]
    },
    {
     "name": "stdout",
     "output_type": "stream",
     "text": [
      "Sample Processed Text:\n",
      "                                  crimeaditionalinfo  \\\n",
      "0  I had continue received random calls and abusi...   \n",
      "1  The above fraudster is continuously messaging ...   \n",
      "2  He is acting like a police and demanding for m...   \n",
      "3  In apna Job I have applied for job interview f...   \n",
      "4  I received a call from lady stating that she w...   \n",
      "\n",
      "                                      processed_text  \n",
      "0  continue received random call abusive message ...  \n",
      "1  fraudster continuously messaging asking pay mo...  \n",
      "2  acting like police demanding money adding sect...  \n",
      "3  apna job applied job interview telecalling res...  \n",
      "4  received call lady stating send new phone vivo...  \n"
     ]
    }
   ],
   "source": [
    "import re\n",
    "import nltk\n",
    "from nltk.corpus import stopwords\n",
    "from nltk.tokenize import word_tokenize\n",
    "from nltk.stem import WordNetLemmatizer\n",
    "\n",
    "# Download necessary NLTK data\n",
    "nltk.download('punkt')\n",
    "nltk.download('stopwords')\n",
    "nltk.download('wordnet')\n",
    "\n",
    "# Initialize stop words and lemmatizer\n",
    "stop_words = set(stopwords.words('english'))\n",
    "lemmatizer = WordNetLemmatizer()\n",
    "\n",
    "# Preprocessing function\n",
    "def preprocess_text(text):\n",
    "    # Lowercasing\n",
    "    text = text.lower()\n",
    "    # Removing punctuation and numbers\n",
    "    text = re.sub(r'[^a-z\\s]', '', text)\n",
    "    # Tokenization\n",
    "    tokens = word_tokenize(text)\n",
    "    # Remove stop words and lemmatize\n",
    "    tokens = [lemmatizer.lemmatize(word) for word in tokens if word not in stop_words]\n",
    "    return ' '.join(tokens)\n",
    "\n",
    "# Apply preprocessing to the 'crimeaditionalinfo' column\n",
    "train_df['processed_text'] = train_df['crimeaditionalinfo'].apply(preprocess_text)\n",
    "\n",
    "# Display the processed text\n",
    "print(\"Sample Processed Text:\")\n",
    "print(train_df[['crimeaditionalinfo', 'processed_text']].head())\n"
   ]
  },
  {
   "cell_type": "code",
   "execution_count": 8,
   "id": "f425daa6",
   "metadata": {},
   "outputs": [
    {
     "name": "stdout",
     "output_type": "stream",
     "text": [
      "Feature Matrix Shape: (93665, 5000)\n"
     ]
    }
   ],
   "source": [
    "from sklearn.feature_extraction.text import TfidfVectorizer\n",
    "\n",
    "# Initialize TF-IDF Vectorizer\n",
    "tfidf_vectorizer = TfidfVectorizer(max_features=5000)  # Limit to top 5000 features for efficiency\n",
    "\n",
    "# Fit and transform the 'processed_text' column\n",
    "X = tfidf_vectorizer.fit_transform(train_df['processed_text'])\n",
    "\n",
    "# Display the shape of the resulting feature matrix\n",
    "print(\"Feature Matrix Shape:\", X.shape)\n"
   ]
  },
  {
   "cell_type": "code",
   "execution_count": 9,
   "id": "7b385544",
   "metadata": {},
   "outputs": [
    {
     "name": "stdout",
     "output_type": "stream",
     "text": [
      "Updated Category Values: ['Online and Social Media Related Crime' 'Online Financial Fraud'\n",
      " 'Online Gambling  Betting' 'RapeGang Rape RGRSexually Abusive Content'\n",
      " 'Any Other Cyber Crime' 'Cyber Attack/ Dependent Crimes'\n",
      " 'Cryptocurrency Crime' 'Sexually Explicit Act'\n",
      " 'Sexually Obscene material'\n",
      " 'Hacking  Damage to computercomputer system etc' 'Cyber Terrorism'\n",
      " 'Child Pornography CPChild Sexual Abuse Material CSAM'\n",
      " 'Online Cyber Trafficking' 'Ransomware']\n",
      "Updated Subcategory Values: ['Cyber Bullying  Stalking  Sexting' 'Fraud CallVishing'\n",
      " 'Online Gambling  Betting' 'Online Job Fraud' 'UPI Related Frauds'\n",
      " 'Internet Banking Related Fraud' 'Unknown' 'Other'\n",
      " 'Profile Hacking Identity Theft' 'DebitCredit Card FraudSim Swap Fraud'\n",
      " 'EWallet Related Fraud' 'Data Breach/Theft' 'Cheating by Impersonation'\n",
      " 'Denial of Service (DoS)/Distributed Denial of Service (DDOS) attacks'\n",
      " 'FakeImpersonating Profile' 'Cryptocurrency Fraud' 'Malware Attack'\n",
      " 'Business Email CompromiseEmail Takeover' 'Email Hacking'\n",
      " 'Hacking/Defacement' 'Unauthorised AccessData Breach' 'SQL Injection'\n",
      " 'Provocative Speech for unlawful acts' 'Ransomware Attack'\n",
      " 'Cyber Terrorism' 'Tampering with computer source documents'\n",
      " 'DematDepository Fraud' 'Online Trafficking' 'Online Matrimonial Fraud'\n",
      " 'Website DefacementHacking' 'Damage to computer computer systems etc'\n",
      " 'Impersonating Email' 'EMail Phishing' 'Ransomware' 'Intimidating Email']\n"
     ]
    }
   ],
   "source": [
    "# Merge rare categories into a broader category\n",
    "train_df['category'] = train_df['category'].replace({\n",
    "    'Report Unlawful Content': 'Any Other Cyber Crime'  # Replace with a broader category\n",
    "})\n",
    "\n",
    "# Merge rare subcategories into a broader subcategory\n",
    "train_df['sub_category'] = train_df['sub_category'].replace({\n",
    "    'Against Interest of sovereignty or integrity of India': 'Unknown'  # Replace with a broader subcategory\n",
    "})\n",
    "\n",
    "# Verify the changes\n",
    "print(\"Updated Category Values:\", train_df['category'].unique())\n",
    "print(\"Updated Subcategory Values:\", train_df['sub_category'].unique())\n"
   ]
  },
  {
   "cell_type": "code",
   "execution_count": 10,
   "id": "ee98511a",
   "metadata": {},
   "outputs": [
    {
     "name": "stdout",
     "output_type": "stream",
     "text": [
      "Encoded Categories Sample: [9 7 8 9 7]\n",
      "Encoded Subcategories Sample: [ 3 14 20 21 14]\n"
     ]
    },
    {
     "data": {
      "text/plain": [
       "['subcategory_encoder.pkl']"
      ]
     },
     "execution_count": 10,
     "metadata": {},
     "output_type": "execute_result"
    }
   ],
   "source": [
    "from sklearn.preprocessing import LabelEncoder\n",
    "\n",
    "# Initialize LabelEncoders\n",
    "category_encoder = LabelEncoder()\n",
    "subcategory_encoder = LabelEncoder()\n",
    "\n",
    "# Encode the 'category' and 'sub_category' columns\n",
    "y_category = category_encoder.fit_transform(train_df['category'])\n",
    "y_subcategory = subcategory_encoder.fit_transform(train_df['sub_category'])\n",
    "\n",
    "# Display the encoded categories and subcategories\n",
    "print(\"Encoded Categories Sample:\", y_category[:5])\n",
    "print(\"Encoded Subcategories Sample:\", y_subcategory[:5])\n",
    "\n",
    "# Save the encoders for decoding predictions later\n",
    "import joblib\n",
    "joblib.dump(category_encoder, 'category_encoder.pkl')\n",
    "joblib.dump(subcategory_encoder, 'subcategory_encoder.pkl')\n"
   ]
  },
  {
   "cell_type": "code",
   "execution_count": 11,
   "id": "5cf558b2",
   "metadata": {},
   "outputs": [
    {
     "name": "stdout",
     "output_type": "stream",
     "text": [
      "Training Set Shape: (74932, 5000)\n",
      "Validation Set Shape: (18733, 5000)\n"
     ]
    }
   ],
   "source": [
    "from sklearn.model_selection import train_test_split\n",
    "\n",
    "# Split the data for category classification\n",
    "X_train, X_val, y_category_train, y_category_val = train_test_split(\n",
    "    X, y_category, test_size=0.2, random_state=42, stratify=y_category\n",
    ")\n",
    "\n",
    "# Split the data for subcategory classification\n",
    "_, _, y_subcategory_train, y_subcategory_val = train_test_split(\n",
    "    X, y_subcategory, test_size=0.2, random_state=42, stratify=y_subcategory\n",
    ")\n",
    "\n",
    "# Check the shape of the splits\n",
    "print(\"Training Set Shape:\", X_train.shape)\n",
    "print(\"Validation Set Shape:\", X_val.shape)\n"
   ]
  },
  {
   "cell_type": "code",
   "execution_count": 12,
   "id": "4bf32029",
   "metadata": {},
   "outputs": [
    {
     "name": "stdout",
     "output_type": "stream",
     "text": [
      "Category Classification Report:\n",
      "              precision    recall  f1-score   support\n",
      "\n",
      "           0       0.62      0.09      0.15      2176\n",
      "           1       0.81      0.17      0.28        76\n",
      "           2       0.78      0.07      0.13        96\n",
      "           3       1.00      1.00      1.00       722\n",
      "           4       0.00      0.00      0.00        32\n",
      "           5       0.61      0.06      0.10       342\n",
      "           6       0.00      0.00      0.00        36\n",
      "           7       0.77      0.98      0.86     11483\n",
      "           8       0.67      0.02      0.04        89\n",
      "           9       0.59      0.57      0.58      2428\n",
      "          10       0.00      0.00      0.00        11\n",
      "          11       1.00      0.93      0.96       564\n",
      "          12       0.95      0.06      0.12       310\n",
      "          13       0.78      0.10      0.17       368\n",
      "\n",
      "    accuracy                           0.76     18733\n",
      "   macro avg       0.61      0.29      0.31     18733\n",
      "weighted avg       0.74      0.76      0.70     18733\n",
      "\n",
      "Subcategory Classification Report:\n",
      "              precision    recall  f1-score   support\n",
      "\n",
      "           0       0.00      0.00      0.00        58\n",
      "           1       0.03      0.00      0.00       398\n",
      "           2       0.00      0.00      0.00        96\n",
      "           3       0.02      0.00      0.00       818\n",
      "           4       0.00      0.00      0.00        32\n",
      "           5       0.00      0.00      0.00        22\n",
      "           6       0.00      0.00      0.00        97\n",
      "           7       0.12      0.02      0.04      2160\n",
      "           8       0.00      0.00      0.00       152\n",
      "           9       0.00      0.00      0.00       101\n",
      "          10       0.00      0.00      0.00        31\n",
      "          11       0.04      0.00      0.01       809\n",
      "          12       0.00      0.00      0.00        70\n",
      "          13       0.03      0.00      0.00       460\n",
      "          14       0.09      0.01      0.02      1161\n",
      "          15       0.00      0.00      0.00       108\n",
      "          16       0.00      0.00      0.00         9\n",
      "          17       0.10      0.02      0.03      1774\n",
      "          18       0.00      0.00      0.00         6\n",
      "          19       0.00      0.00      0.00       104\n",
      "          20       0.00      0.00      0.00        89\n",
      "          21       0.00      0.00      0.00       182\n",
      "          22       0.00      0.00      0.00        26\n",
      "          23       0.00      0.00      0.00        37\n",
      "          24       0.12      0.03      0.04      2175\n",
      "          25       0.00      0.00      0.00       414\n",
      "          26       0.00      0.00      0.00        83\n",
      "          27       0.00      0.00      0.00        11\n",
      "          28       0.00      0.00      0.00       107\n",
      "          29       0.10      0.01      0.02       102\n",
      "          30       0.06      0.01      0.02       113\n",
      "          31       0.29      0.89      0.43      5369\n",
      "          32       0.04      0.00      0.01       223\n",
      "          33       0.08      0.01      0.02      1318\n",
      "          34       0.00      0.00      0.00        18\n",
      "\n",
      "    accuracy                           0.26     18733\n",
      "   macro avg       0.03      0.03      0.02     18733\n",
      "weighted avg       0.14      0.26      0.14     18733\n",
      "\n"
     ]
    },
    {
     "name": "stderr",
     "output_type": "stream",
     "text": [
      "C:\\ML\\lib\\site-packages\\sklearn\\metrics\\_classification.py:1509: UndefinedMetricWarning: Precision is ill-defined and being set to 0.0 in labels with no predicted samples. Use `zero_division` parameter to control this behavior.\n",
      "  _warn_prf(average, modifier, f\"{metric.capitalize()} is\", len(result))\n",
      "C:\\ML\\lib\\site-packages\\sklearn\\metrics\\_classification.py:1509: UndefinedMetricWarning: Precision is ill-defined and being set to 0.0 in labels with no predicted samples. Use `zero_division` parameter to control this behavior.\n",
      "  _warn_prf(average, modifier, f\"{metric.capitalize()} is\", len(result))\n",
      "C:\\ML\\lib\\site-packages\\sklearn\\metrics\\_classification.py:1509: UndefinedMetricWarning: Precision is ill-defined and being set to 0.0 in labels with no predicted samples. Use `zero_division` parameter to control this behavior.\n",
      "  _warn_prf(average, modifier, f\"{metric.capitalize()} is\", len(result))\n",
      "C:\\ML\\lib\\site-packages\\sklearn\\metrics\\_classification.py:1509: UndefinedMetricWarning: Precision is ill-defined and being set to 0.0 in labels with no predicted samples. Use `zero_division` parameter to control this behavior.\n",
      "  _warn_prf(average, modifier, f\"{metric.capitalize()} is\", len(result))\n",
      "C:\\ML\\lib\\site-packages\\sklearn\\metrics\\_classification.py:1509: UndefinedMetricWarning: Precision is ill-defined and being set to 0.0 in labels with no predicted samples. Use `zero_division` parameter to control this behavior.\n",
      "  _warn_prf(average, modifier, f\"{metric.capitalize()} is\", len(result))\n",
      "C:\\ML\\lib\\site-packages\\sklearn\\metrics\\_classification.py:1509: UndefinedMetricWarning: Precision is ill-defined and being set to 0.0 in labels with no predicted samples. Use `zero_division` parameter to control this behavior.\n",
      "  _warn_prf(average, modifier, f\"{metric.capitalize()} is\", len(result))\n"
     ]
    }
   ],
   "source": [
    "from sklearn.multioutput import MultiOutputClassifier\n",
    "from sklearn.ensemble import RandomForestClassifier\n",
    "from sklearn.metrics import classification_report\n",
    "\n",
    "# Initialize a base classifier\n",
    "base_classifier = RandomForestClassifier(random_state=42)\n",
    "\n",
    "# Wrap it in a multi-output classifier\n",
    "multi_output_model = MultiOutputClassifier(base_classifier)\n",
    "\n",
    "# Prepare the targets as a combined array\n",
    "y_combined_train = list(zip(y_category_train, y_subcategory_train))\n",
    "y_combined_val = list(zip(y_category_val, y_subcategory_val))\n",
    "\n",
    "# Train the model\n",
    "multi_output_model.fit(X_train, y_combined_train)\n",
    "\n",
    "# Make predictions\n",
    "y_combined_pred = multi_output_model.predict(X_val)\n",
    "\n",
    "# Separate predictions for evaluation\n",
    "y_category_pred, y_subcategory_pred = zip(*y_combined_pred)\n",
    "\n",
    "# Evaluate category predictions\n",
    "print(\"Category Classification Report:\")\n",
    "print(classification_report(y_category_val, y_category_pred))\n",
    "\n",
    "# Evaluate subcategory predictions\n",
    "print(\"Subcategory Classification Report:\")\n",
    "print(classification_report(y_subcategory_val, y_subcategory_pred))\n"
   ]
  },
  {
   "cell_type": "code",
   "execution_count": 16,
   "id": "419af99c",
   "metadata": {},
   "outputs": [
    {
     "name": "stdout",
     "output_type": "stream",
     "text": [
      "Processed Test Set Sample:\n",
      "                                  crimeaditionalinfo  \\\n",
      "0  Sir namaskar  mein Ranjit Kumar PatraPaise neh...   \n",
      "1          KOTAK MAHINDRA BANK FRAUD\\r\\nFRAUD AMOUNT   \n",
      "2  The issue actually started when I got this ema...   \n",
      "3  I am amit kumar from karwi chitrakoot I am tot...   \n",
      "4  I have ordered  saree and  blouse from rinki s...   \n",
      "\n",
      "                                      processed_text  \n",
      "0  sir namaskar mein ranjit kumar patrapaise nehi...  \n",
      "1             kotak mahindra bank fraud fraud amount  \n",
      "2  issue actually started got email first glance ...  \n",
      "3  amit kumar karwi chitrakoot totally depressed ...  \n",
      "4  ordered saree blouse rinki sur paid amount tak...  \n"
     ]
    }
   ],
   "source": [
    "# Updated preprocessing function\n",
    "def preprocess_text(text):\n",
    "    if isinstance(text, str):  # Ensure the input is a string\n",
    "        # Lowercasing\n",
    "        text = text.lower()\n",
    "        # Removing punctuation and numbers\n",
    "        text = re.sub(r'[^a-z\\s]', '', text)\n",
    "        # Tokenization\n",
    "        tokens = word_tokenize(text)\n",
    "        # Remove stop words and lemmatize\n",
    "        tokens = [lemmatizer.lemmatize(word) for word in tokens if word not in stop_words]\n",
    "        return ' '.join(tokens)\n",
    "    else:\n",
    "        return ''  # Return an empty string for non-string inputs\n",
    "# Preprocess the test set\n",
    "test_df['processed_text'] = test_df['crimeaditionalinfo'].apply(preprocess_text)\n",
    "\n",
    "# Check if there are any issues in the processed text\n",
    "print(\"Processed Test Set Sample:\")\n",
    "print(test_df[['crimeaditionalinfo', 'processed_text']].head())\n"
   ]
  },
  {
   "cell_type": "code",
   "execution_count": 20,
   "id": "6fdd5c53",
   "metadata": {},
   "outputs": [
    {
     "name": "stdout",
     "output_type": "stream",
     "text": [
      "Feature Matrix Shape: (31229, 5000)\n"
     ]
    }
   ],
   "source": [
    "from sklearn.feature_extraction.text import TfidfVectorizer\n",
    "\n",
    "# Initialize TF-IDF Vectorizer\n",
    "tfidf_vectorizer = TfidfVectorizer(max_features=5000)  # Limit to top 5000 features for efficiency\n",
    "\n",
    "# Fit and transform the 'processed_text' column\n",
    "X = tfidf_vectorizer.fit_transform(test_df['processed_text'])\n",
    "\n",
    "# Display the shape of the resulting feature matrix\n",
    "print(\"Feature Matrix Shape:\", X.shape)"
   ]
  },
  {
   "cell_type": "code",
   "execution_count": 23,
   "id": "4b68f09d",
   "metadata": {},
   "outputs": [
    {
     "name": "stdout",
     "output_type": "stream",
     "text": [
      "Updated Category Values: ['Online and Social Media Related Crime' 'Online Financial Fraud'\n",
      " 'Online Gambling  Betting' 'RapeGang Rape RGRSexually Abusive Content'\n",
      " 'Any Other Cyber Crime' 'Cyber Attack/ Dependent Crimes'\n",
      " 'Cryptocurrency Crime' 'Sexually Explicit Act'\n",
      " 'Sexually Obscene material'\n",
      " 'Hacking  Damage to computercomputer system etc' 'Cyber Terrorism'\n",
      " 'Child Pornography CPChild Sexual Abuse Material CSAM'\n",
      " 'Online Cyber Trafficking' 'Ransomware']\n",
      "Updated Subcategory Values: ['Cyber Bullying  Stalking  Sexting' 'Fraud CallVishing'\n",
      " 'Online Gambling  Betting' 'Online Job Fraud' 'UPI Related Frauds'\n",
      " 'Internet Banking Related Fraud' 'Unknown' 'Other'\n",
      " 'Profile Hacking Identity Theft' 'DebitCredit Card FraudSim Swap Fraud'\n",
      " 'EWallet Related Fraud' 'Data Breach/Theft' 'Cheating by Impersonation'\n",
      " 'Denial of Service (DoS)/Distributed Denial of Service (DDOS) attacks'\n",
      " 'FakeImpersonating Profile' 'Cryptocurrency Fraud' 'Malware Attack'\n",
      " 'Business Email CompromiseEmail Takeover' 'Email Hacking'\n",
      " 'Hacking/Defacement' 'Unauthorised AccessData Breach' 'SQL Injection'\n",
      " 'Provocative Speech for unlawful acts' 'Ransomware Attack'\n",
      " 'Cyber Terrorism' 'Tampering with computer source documents'\n",
      " 'DematDepository Fraud' 'Online Trafficking' 'Online Matrimonial Fraud'\n",
      " 'Website DefacementHacking' 'Damage to computer computer systems etc'\n",
      " 'Impersonating Email' 'EMail Phishing' 'Ransomware' 'Intimidating Email']\n"
     ]
    }
   ],
   "source": [
    "# Merge rare categories into a broader category\n",
    "test_df['category'] = test_df['category'].replace({\n",
    "    'Report Unlawful Content': 'Any Other Cyber Crime'  # Replace with a broader category\n",
    "})\n",
    "\n",
    "# Merge rare subcategories into a broader subcategory\n",
    "test_df['sub_category'] = test_df['sub_category'].replace({\n",
    "    'Against Interest of sovereignty or integrity of India': 'Unknown'  # Replace with a broader subcategory\n",
    "})\n",
    "\n",
    "# Verify the changes\n",
    "print(\"Updated Category Values:\", train_df['category'].unique())\n",
    "print(\"Updated Subcategory Values:\", train_df['sub_category'].unique())\n"
   ]
  },
  {
   "cell_type": "code",
   "execution_count": 26,
   "id": "4dda97b3",
   "metadata": {},
   "outputs": [
    {
     "name": "stdout",
     "output_type": "stream",
     "text": [
      "Encoded Categories Sample: [9 7 8 9 7]\n",
      "Encoded Subcategories Sample: [ 3 14 20 21 14]\n"
     ]
    }
   ],
   "source": [
    "from sklearn.preprocessing import LabelEncoder\n",
    "\n",
    "# Initialize LabelEncoders\n",
    "category_encoder = LabelEncoder()\n",
    "subcategory_encoder = LabelEncoder()\n",
    "\n",
    "# Encode the 'category' and 'sub_category' columns\n",
    "y_category_test = category_encoder.fit_transform(test_df['category'])\n",
    "y_subcategory_test = subcategory_encoder.fit_transform(test_df['sub_category'])\n",
    "\n",
    "# Display the encoded categories and subcategories\n",
    "print(\"Encoded Categories Sample:\", y_category[:5])\n",
    "print(\"Encoded Subcategories Sample:\", y_subcategory[:5])\n",
    "\n"
   ]
  },
  {
   "cell_type": "code",
   "execution_count": 27,
   "id": "56744167",
   "metadata": {},
   "outputs": [
    {
     "name": "stdout",
     "output_type": "stream",
     "text": [
      "Category Classification Report (Test Set):\n",
      "              precision    recall  f1-score   support\n",
      "\n",
      "           0       0.11      0.02      0.03      3620\n",
      "           1       0.00      0.00      0.00       118\n",
      "           2       0.00      0.00      0.00       165\n",
      "           3       0.04      0.04      0.04      1222\n",
      "           4       0.00      0.00      0.00        55\n",
      "           5       0.00      0.00      0.00       580\n",
      "           6       0.00      0.00      0.00        63\n",
      "           7       0.61      0.78      0.68     19032\n",
      "           8       0.00      0.00      0.00       150\n",
      "           9       0.12      0.11      0.11      4079\n",
      "          10       0.00      0.00      0.00        14\n",
      "          11       0.03      0.02      0.02       972\n",
      "          12       0.02      0.00      0.00       531\n",
      "          13       0.01      0.00      0.00       622\n",
      "          14       0.00      0.00      0.00         6\n",
      "\n",
      "    accuracy                           0.49     31229\n",
      "   macro avg       0.06      0.06      0.06     31229\n",
      "weighted avg       0.40      0.49      0.44     31229\n",
      "\n",
      "Subcategory Classification Report (Test Set):\n"
     ]
    },
    {
     "name": "stderr",
     "output_type": "stream",
     "text": [
      "C:\\ML\\lib\\site-packages\\sklearn\\metrics\\_classification.py:1509: UndefinedMetricWarning: Precision is ill-defined and being set to 0.0 in labels with no predicted samples. Use `zero_division` parameter to control this behavior.\n",
      "  _warn_prf(average, modifier, f\"{metric.capitalize()} is\", len(result))\n",
      "C:\\ML\\lib\\site-packages\\sklearn\\metrics\\_classification.py:1509: UndefinedMetricWarning: Precision is ill-defined and being set to 0.0 in labels with no predicted samples. Use `zero_division` parameter to control this behavior.\n",
      "  _warn_prf(average, modifier, f\"{metric.capitalize()} is\", len(result))\n",
      "C:\\ML\\lib\\site-packages\\sklearn\\metrics\\_classification.py:1509: UndefinedMetricWarning: Precision is ill-defined and being set to 0.0 in labels with no predicted samples. Use `zero_division` parameter to control this behavior.\n",
      "  _warn_prf(average, modifier, f\"{metric.capitalize()} is\", len(result))\n",
      "C:\\ML\\lib\\site-packages\\sklearn\\metrics\\_classification.py:1509: UndefinedMetricWarning: Precision is ill-defined and being set to 0.0 in labels with no predicted samples. Use `zero_division` parameter to control this behavior.\n",
      "  _warn_prf(average, modifier, f\"{metric.capitalize()} is\", len(result))\n",
      "C:\\ML\\lib\\site-packages\\sklearn\\metrics\\_classification.py:1509: UndefinedMetricWarning: Precision is ill-defined and being set to 0.0 in labels with no predicted samples. Use `zero_division` parameter to control this behavior.\n",
      "  _warn_prf(average, modifier, f\"{metric.capitalize()} is\", len(result))\n"
     ]
    },
    {
     "name": "stdout",
     "output_type": "stream",
     "text": [
      "              precision    recall  f1-score   support\n",
      "\n",
      "           0       0.00      0.00      0.00        97\n",
      "           1       0.04      0.00      0.01       695\n",
      "           2       0.00      0.00      0.00       165\n",
      "           3       0.06      0.01      0.01      1331\n",
      "           4       0.00      0.00      0.00        55\n",
      "           5       0.00      0.00      0.00        39\n",
      "           6       0.00      0.00      0.00       153\n",
      "           7       0.11      0.02      0.04      3573\n",
      "           8       0.00      0.00      0.00       265\n",
      "           9       0.00      0.00      0.00       167\n",
      "          10       0.00      0.00      0.00        57\n",
      "          11       0.03      0.00      0.01      1357\n",
      "          12       0.00      0.00      0.00       117\n",
      "          13       0.03      0.00      0.00       803\n",
      "          14       0.04      0.01      0.01      1907\n",
      "          15       0.00      0.00      0.00       184\n",
      "          16       0.00      0.00      0.00        17\n",
      "          17       0.12      0.02      0.04      2991\n",
      "          18       0.00      0.00      0.00        13\n",
      "          19       0.00      0.00      0.00       180\n",
      "          20       0.00      0.00      0.00       150\n",
      "          21       0.00      0.00      0.00       308\n",
      "          22       0.33      0.02      0.04        49\n",
      "          23       0.00      0.00      0.00        63\n",
      "          24       0.12      0.03      0.04      3620\n",
      "          25       0.02      0.00      0.01       672\n",
      "          26       0.00      0.00      0.00       134\n",
      "          27       0.00      0.00      0.00        14\n",
      "          28       0.00      0.00      0.00       199\n",
      "          29       0.00      0.00      0.00       162\n",
      "          30       0.00      0.00      0.00       196\n",
      "          31       0.28      0.89      0.43      8842\n",
      "          32       0.00      0.00      0.00       378\n",
      "          33       0.07      0.01      0.02      2243\n",
      "          34       0.00      0.00      0.00        27\n",
      "          35       0.00      0.00      0.00         6\n",
      "\n",
      "    accuracy                           0.26     31229\n",
      "   macro avg       0.04      0.03      0.02     31229\n",
      "weighted avg       0.13      0.26      0.14     31229\n",
      "\n"
     ]
    },
    {
     "name": "stderr",
     "output_type": "stream",
     "text": [
      "C:\\ML\\lib\\site-packages\\sklearn\\metrics\\_classification.py:1509: UndefinedMetricWarning: Precision is ill-defined and being set to 0.0 in labels with no predicted samples. Use `zero_division` parameter to control this behavior.\n",
      "  _warn_prf(average, modifier, f\"{metric.capitalize()} is\", len(result))\n"
     ]
    }
   ],
   "source": [
    "# Make predictions\n",
    "y_combined_test_pred = multi_output_model.predict(X_test)\n",
    "\n",
    "# Separate predictions\n",
    "y_category_test_pred, y_subcategory_test_pred = zip(*y_combined_test_pred)\n",
    "\n",
    "if y_category_test is not None and y_subcategory_test is not None:\n",
    "    # Evaluate category predictions\n",
    "    print(\"Category Classification Report (Test Set):\")\n",
    "    print(classification_report(y_category_test, y_category_test_pred))\n",
    "\n",
    "    # Evaluate subcategory predictions\n",
    "    print(\"Subcategory Classification Report (Test Set):\")\n",
    "    print(classification_report(y_subcategory_test, y_subcategory_test_pred))\n",
    "else:\n",
    "    print(\"Predictions made, but no labels available for evaluation.\")\n"
   ]
  }
 ],
 "metadata": {
  "kernelspec": {
   "display_name": "Python 3 (ipykernel)",
   "language": "python",
   "name": "python3"
  },
  "language_info": {
   "codemirror_mode": {
    "name": "ipython",
    "version": 3
   },
   "file_extension": ".py",
   "mimetype": "text/x-python",
   "name": "python",
   "nbconvert_exporter": "python",
   "pygments_lexer": "ipython3",
   "version": "3.9.16"
  }
 },
 "nbformat": 4,
 "nbformat_minor": 5
}
